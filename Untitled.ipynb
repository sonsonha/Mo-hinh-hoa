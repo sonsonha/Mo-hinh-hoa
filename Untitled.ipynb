{
 "cells": [
  {
   "cell_type": "code",
   "execution_count": null,
   "id": "57d82eeb-c61b-4c8e-a52c-b59358ccfe72",
   "metadata": {
    "is_executing": true
   },
   "outputs": [],
   "source": [
    "import math\n",
    "import pandas as pd\n",
    "import numpy as np\n",
    "from gamspy import *\n",
    "from scipy.stats import binom"
   ]
  },
  {
   "cell_type": "code",
   "execution_count": null,
   "id": "8f8e3f87-0dd8-48d4-a38a-29608908962b",
   "metadata": {
    "is_executing": true
   },
   "outputs": [],
   "source": [
    "k_values = list(range(11))\n",
    "distribution = []\n",
    "for k in k_values:\n",
    "    distribution.append(binom.pmf(k, 10, 0.5))"
   ]
  },
  {
   "cell_type": "code",
   "execution_count": 3,
   "id": "22e2d848-39df-45f5-9032-eb874aabeedd",
   "metadata": {},
   "outputs": [],
   "source": [
    "require_data_frame = []\n",
    "lines = open(\"require_matrix.txt\").readlines()\n",
    "for line in lines:\n",
    "    num = line.split()\n",
    "    arr = []\n",
    "    for s in num:\n",
    "        arr.append(int(s))\n",
    "    require_data_frame.append(arr)\n",
    "\n",
    "require_data = []\n",
    "for i in range(8):\n",
    "    for j in range(5):\n",
    "        prod_str = \"product_\" + str(i+1)\n",
    "        part_str = \"part_\" + str(j+1)\n",
    "        require_data.append([prod_str, part_str, require_data_frame[i][j]])\n",
    "\n",
    "require_matrix = pd.DataFrame(\n",
    "    require_data,\n",
    "    columns=[\"product\", \"part\", \"require\"]\n",
    ").set_index([\"product\", \"part\"])"
   ]
  },
  {
   "cell_type": "code",
   "execution_count": 4,
   "id": "b8adf3e6-6dea-4fce-8cd0-556d80d1f427",
   "metadata": {},
   "outputs": [],
   "source": [
    "demand = []\n",
    "\n",
    "demand.append(\n",
    "    pd.DataFrame(\n",
    "        [[\"product_1\", np.random.choice(np.arange(0,11), p=distribution)],\n",
    "        [\"product_2\", np.random.choice(np.arange(0,11), p=distribution)],\n",
    "        [\"product_3\", np.random.choice(np.arange(0,11), p=distribution)],\n",
    "        [\"product_4\", np.random.choice(np.arange(0,11), p=distribution)],\n",
    "        [\"product_5\", np.random.choice(np.arange(0,11), p=distribution)],\n",
    "        [\"product_6\", np.random.choice(np.arange(0,11), p=distribution)],\n",
    "        [\"product_7\", np.random.choice(np.arange(0,11), p=distribution)],\n",
    "        [\"product_8\", np.random.choice(np.arange(0,11), p=distribution)]],\n",
    "        columns=[\"product\", \"demand_1\"]\n",
    "    ).set_index(\"product\")\n",
    ")\n",
    "\n",
    "demand.append(\n",
    "    pd.DataFrame(\n",
    "        [[\"product_1\", np.random.choice(np.arange(0,11), p=distribution)],\n",
    "        [\"product_2\", np.random.choice(np.arange(0,11), p=distribution)],\n",
    "        [\"product_3\", np.random.choice(np.arange(0,11), p=distribution)],\n",
    "        [\"product_4\", np.random.choice(np.arange(0,11), p=distribution)],\n",
    "        [\"product_5\", np.random.choice(np.arange(0,11), p=distribution)],\n",
    "        [\"product_6\", np.random.choice(np.arange(0,11), p=distribution)],\n",
    "        [\"product_7\", np.random.choice(np.arange(0,11), p=distribution)],\n",
    "        [\"product_8\", np.random.choice(np.arange(0,11), p=distribution)]],\n",
    "        columns=[\"product\", \"demand_2\"]\n",
    "    ).set_index(\"product\")\n",
    ")"
   ]
  },
  {
   "cell_type": "code",
   "execution_count": 5,
   "id": "9eaa7f30-a540-4c95-9843-9e2f1710c9b3",
   "metadata": {},
   "outputs": [],
   "source": [
    "product_cost_data = []\n",
    "product_price_data = []\n",
    "\n",
    "\n",
    "lines = open(\"product.txt\").readlines()\n",
    "for i in range (1, 9):\n",
    "    line = lines[i].split()\n",
    "    product_cost_data.append([\"product_\" + str(i), int(line[0])])\n",
    "    product_price_data.append([\"product_\" + str(i), int(line[1])])\n",
    "\n",
    "\n",
    "product_cost = pd.DataFrame(\n",
    "    product_cost_data,\n",
    "    columns=[\"product\", \"cost\\n(l_i)\"]\n",
    ").set_index(\"product\")\n",
    "\n",
    "\n",
    "product_selling_price = pd.DataFrame(\n",
    "    product_price_data,\n",
    "    columns=[\"product\", \"selling price\\n(q_i)\"]\n",
    ").set_index(\"product\")\n",
    "\n",
    "\n",
    "part_price_data = []\n",
    "preorder_cost_part_data = []\n",
    "\n",
    "\n",
    "\n",
    "lines = open(\"part.txt\").readlines()\n",
    "for j in range (1,6):\n",
    "    part_price_data.append([\"part_\"+str(j), int(lines[j].split()[0])])\n",
    "    preorder_cost_part_data.append([\"part_\"+str(j), int(lines[j].split()[1])])\n",
    "\n",
    "\n",
    "part_selling_price = pd.DataFrame(\n",
    "    part_price_data,\n",
    "    columns=[\"part\", \"selling price\\n(s_j)\"]\n",
    ").set_index(\"part\")\n",
    "\n",
    "preorder_cost = pd.DataFrame(\n",
    "    preorder_cost_part_data,\n",
    "    columns=[\"part\", \"preorder cost\\n(b_j)\"]\n",
    ").set_index(\"part\")\n",
    "\n",
    "S = len(demand)"
   ]
  },
  {
   "cell_type": "code",
   "execution_count": 6,
   "id": "764857c7-3dcf-48c2-a3b1-f3982b8b5ff2",
   "metadata": {},
   "outputs": [],
   "source": [
    "m = Container()\n",
    "\n",
    "i = Set(m, \"i\", description=\"product\", records=product_selling_price.index)\n",
    "j = Set(m, \"j\", description=\"part\", records=part_selling_price.index)\n",
    "\n",
    "A = Parameter(\n",
    "    container=m,\n",
    "    name=\"A\",\n",
    "    description=\"require matrix\",\n",
    "    domain=[i, j],\n",
    "    records=require_matrix.reset_index(),\n",
    ")\n",
    "d = [None]*S\n",
    "for scenerio in range(S):\n",
    "    d[scenerio] = Parameter(m, \"d_\" + str(scenerio), domain=i, description=\"demand\", records=demand[scenerio].reset_index())\n",
    "\n",
    "l = Parameter(m, \"l\", domain=i, description=\"product cost\", records=product_cost.reset_index())\n",
    "q = Parameter(m, \"q\", domain=i, description=\"product selling price\", records=product_selling_price.reset_index())\n",
    "s = Parameter(m, \"s\", domain=j, description=\"part selling price\", records=part_selling_price.reset_index())\n",
    "b = Parameter(m, \"b\", domain=j, description=\"preorder cost per part\", records=preorder_cost.reset_index())\n",
    "\n",
    "x = Variable(m, \"x\", type=\"Positive\", domain=j)\n",
    "y = [None]*S\n",
    "z = [None]*S\n",
    "\n",
    "require = [None]*S\n",
    "demand_constraint = [None]*S\n",
    "\n",
    "obj = Sum(j, x[j]*b[j])\n",
    "\n",
    "for scenerio in range(S):\n",
    "    y[scenerio] = Variable(m, \"y\" + str(scenerio), type=\"Positive\", domain=j)\n",
    "    z[scenerio] = Variable(m, \"z\" + str(scenerio), type=\"Positive\", domain=i)\n",
    "    require[scenerio] = Equation(\n",
    "        m, \"require\" + str(scenerio),\n",
    "        domain=j, description=\"require of part j to product i\"\n",
    "    )\n",
    "    require[scenerio][j] = y[scenerio][j] == x[j] - Sum(i, A[i,j]*z[scenerio][i])\n",
    "\n",
    "    demand_constraint[scenerio] = Equation(\n",
    "        m, \"demand\" + str(scenerio),\n",
    "        domain=i, description=\"Demand for each product\"\n",
    "    )\n",
    "    demand_constraint[scenerio][i] = z[scenerio][i] <= d[scenerio][i]\n",
    "\n",
    "    obj += 0.5*Sum(i, (l[i]-q[i])*z[scenerio][i]) - 0.5*Sum(j, s[j]*y[scenerio][j])"
   ]
  },
  {
   "cell_type": "code",
   "execution_count": 7,
   "id": "45ea3b37-2421-447a-9720-1e14610421b1",
   "metadata": {},
   "outputs": [],
   "source": [
    "modelTransport = Model(\n",
    "    m, \"modelTransport\",\n",
    "    problem=\"LP\", equations=m.getEquations(),\n",
    "    sense=Sense.MIN, objective=obj\n",
    ")\n",
    "\n",
    "modelTransport.solve(solver=\"CPLEX\")"
   ]
  },
  {
   "cell_type": "code",
   "execution_count": 8,
   "id": "58488872-8c16-489c-9b99-219de5585863",
   "metadata": {},
   "outputs": [
    {
     "name": "stdout",
     "output_type": "stream",
     "text": [
      "x:\n",
      "         j  level  marginal  lower  upper  scale\n",
      "0  part_1   18.0       0.0    0.0    inf    1.0\n",
      "1  part_2   36.0       0.0    0.0    inf    1.0\n",
      "2  part_3   54.0       0.0    0.0    inf    1.0\n",
      "3  part_4   72.0       0.0    0.0    inf    1.0\n",
      "4  part_5   90.0       0.0    0.0    inf    1.0\n"
     ]
    }
   ],
   "source": [
    "print(\"x:\\n\", x.records)"
   ]
  },
  {
   "cell_type": "code",
   "execution_count": 9,
   "id": "b4df6ecd-7fc9-4908-bdbd-ac0e445ec692",
   "metadata": {},
   "outputs": [
    {
     "name": "stdout",
     "output_type": "stream",
     "text": [
      "y1:\n",
      "         j  level  marginal  lower  upper  scale\n",
      "0  part_1    0.0     5.000    0.0    inf    1.0\n",
      "1  part_2    0.0    16.000    0.0    inf    1.0\n",
      "2  part_3    0.0    27.000    0.0    inf    1.0\n",
      "3  part_4    0.0    33.625    0.0    inf    1.0\n",
      "4  part_5    0.0     0.000    0.0    inf    1.0\n"
     ]
    }
   ],
   "source": [
    "print(\"y1:\\n\", y[0].records)"
   ]
  },
  {
   "cell_type": "code",
   "execution_count": 10,
   "id": "d6a2dae0-454c-4240-9af4-d4ec86d582bd",
   "metadata": {},
   "outputs": [
    {
     "name": "stdout",
     "output_type": "stream",
     "text": [
      "z1:\n",
      "            i  level  marginal  lower  upper  scale\n",
      "0  product_1    0.0     165.0    0.0    inf    1.0\n",
      "1  product_2    0.0     110.0    0.0    inf    1.0\n",
      "2  product_3    0.0      55.0    0.0    inf    1.0\n",
      "3  product_4    2.0       0.0    0.0    inf    1.0\n",
      "4  product_5    4.0       0.0    0.0    inf    1.0\n",
      "5  product_6    7.0       0.0    0.0    inf    1.0\n",
      "6  product_7    2.0       0.0    0.0    inf    1.0\n",
      "7  product_8    3.0       0.0    0.0    inf    1.0\n"
     ]
    }
   ],
   "source": [
    "print(\"z1:\\n\", z[0].records)"
   ]
  },
  {
   "cell_type": "code",
   "execution_count": 11,
   "id": "3b7c3543-9d15-4f75-a2e6-b3c4840ce9c9",
   "metadata": {},
   "outputs": [
    {
     "name": "stdout",
     "output_type": "stream",
     "text": [
      "y2:\n",
      "         j  level  marginal  lower  upper  scale\n",
      "0  part_1    0.0     0.000    0.0    inf    1.0\n",
      "1  part_2    0.0     0.000    0.0    inf    1.0\n",
      "2  part_3    0.0     0.000    0.0    inf    1.0\n",
      "3  part_4    0.0     4.375    0.0    inf    1.0\n",
      "4  part_5    0.0    49.000    0.0    inf    1.0\n"
     ]
    }
   ],
   "source": [
    "print(\"y2:\\n\", y[1].records)"
   ]
  },
  {
   "cell_type": "code",
   "execution_count": 12,
   "id": "cee518b6-8753-4dd9-b99a-a0e164826c6c",
   "metadata": {},
   "outputs": [
    {
     "name": "stdout",
     "output_type": "stream",
     "text": [
      "z2:\n",
      "            i  level  marginal  lower  upper  scale\n",
      "0  product_1    0.0     175.0    0.0    inf    1.0\n",
      "1  product_2    0.0     120.0    0.0    inf    1.0\n",
      "2  product_3    0.0      65.0    0.0    inf    1.0\n",
      "3  product_4    0.0      10.0    0.0    inf    1.0\n",
      "4  product_5    4.0       0.0    0.0    inf    1.0\n",
      "5  product_6    4.0       0.0    0.0    inf    1.0\n",
      "6  product_7    7.0       0.0    0.0    inf    1.0\n",
      "7  product_8    3.0       0.0    0.0    inf    1.0\n"
     ]
    }
   ],
   "source": [
    "print(\"z2:\\n\", z[1].records)"
   ]
  },
  {
   "cell_type": "code",
   "execution_count": 13,
   "id": "48e4722f-d7fb-4baf-aaf7-8d587a7f6992",
   "metadata": {},
   "outputs": [
    {
     "name": "stdout",
     "output_type": "stream",
     "text": [
      "objective result: -4275.0\n"
     ]
    }
   ],
   "source": [
    "print(\"objective result:\", modelTransport.objective_value)"
   ]
  },
  {
   "cell_type": "markdown",
   "source": [],
   "metadata": {
    "collapsed": false
   },
   "id": "37b0d206de8edecf"
  }
 ],
 "metadata": {
  "kernelspec": {
   "display_name": "Python 3 (ipykernel)",
   "language": "python",
   "name": "python3"
  },
  "language_info": {
   "codemirror_mode": {
    "name": "ipython",
    "version": 3
   },
   "file_extension": ".py",
   "mimetype": "text/x-python",
   "name": "python",
   "nbconvert_exporter": "python",
   "pygments_lexer": "ipython3",
   "version": "3.12.0"
  }
 },
 "nbformat": 4,
 "nbformat_minor": 5
}
